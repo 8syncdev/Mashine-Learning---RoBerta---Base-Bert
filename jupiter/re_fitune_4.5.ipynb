{
 "cells": [
  {
   "cell_type": "code",
   "execution_count": 1,
   "metadata": {},
   "outputs": [],
   "source": [
    "import os\n",
    "\n",
    "import pandas as pd\n",
    "import numpy as np\n",
    "import random\n",
    "\n",
    "from tqdm.notebook import tqdm\n",
    "\n",
    "from sklearn.model_selection import train_test_split\n",
    "from sklearn.metrics import f1_score\n",
    "\n",
    "import torch\n",
    "import transformers\n",
    "from transformers import (BertTokenizer,AutoTokenizer, BertForSequenceClassification, \n",
    "                          AdamW, get_linear_schedule_with_warmup)\n",
    "from torch.utils.data import TensorDataset, DataLoader, RandomSampler, SequentialSampler"
   ]
  },
  {
   "cell_type": "markdown",
   "metadata": {},
   "source": [
    "## 1. Load Data To Analysis\n"
   ]
  },
  {
   "cell_type": "code",
   "execution_count": 2,
   "metadata": {},
   "outputs": [
    {
     "data": {
      "text/html": [
       "<div>\n",
       "<style scoped>\n",
       "    .dataframe tbody tr th:only-of-type {\n",
       "        vertical-align: middle;\n",
       "    }\n",
       "\n",
       "    .dataframe tbody tr th {\n",
       "        vertical-align: top;\n",
       "    }\n",
       "\n",
       "    .dataframe thead th {\n",
       "        text-align: right;\n",
       "    }\n",
       "</style>\n",
       "<table border=\"1\" class=\"dataframe\">\n",
       "  <thead>\n",
       "    <tr style=\"text-align: right;\">\n",
       "      <th></th>\n",
       "      <th>Id</th>\n",
       "      <th>Review</th>\n",
       "      <th>Label</th>\n",
       "    </tr>\n",
       "  </thead>\n",
       "  <tbody>\n",
       "    <tr>\n",
       "      <th>0</th>\n",
       "      <td>0</td>\n",
       "      <td>good and interesting</td>\n",
       "      <td>5</td>\n",
       "    </tr>\n",
       "    <tr>\n",
       "      <th>1</th>\n",
       "      <td>1</td>\n",
       "      <td>This class is very helpful to me. Currently, I...</td>\n",
       "      <td>5</td>\n",
       "    </tr>\n",
       "    <tr>\n",
       "      <th>2</th>\n",
       "      <td>2</td>\n",
       "      <td>like!Prof and TAs are helpful and the discussi...</td>\n",
       "      <td>5</td>\n",
       "    </tr>\n",
       "    <tr>\n",
       "      <th>3</th>\n",
       "      <td>3</td>\n",
       "      <td>Easy to follow and includes a lot basic and im...</td>\n",
       "      <td>5</td>\n",
       "    </tr>\n",
       "    <tr>\n",
       "      <th>4</th>\n",
       "      <td>4</td>\n",
       "      <td>Really nice teacher!I could got the point eazl...</td>\n",
       "      <td>4</td>\n",
       "    </tr>\n",
       "    <tr>\n",
       "      <th>...</th>\n",
       "      <td>...</td>\n",
       "      <td>...</td>\n",
       "      <td>...</td>\n",
       "    </tr>\n",
       "    <tr>\n",
       "      <th>107013</th>\n",
       "      <td>107013</td>\n",
       "      <td>Trendy topic with talks from expertises in the...</td>\n",
       "      <td>4</td>\n",
       "    </tr>\n",
       "    <tr>\n",
       "      <th>107014</th>\n",
       "      <td>107014</td>\n",
       "      <td>Wonderful! Simple and clear language, good ins...</td>\n",
       "      <td>5</td>\n",
       "    </tr>\n",
       "    <tr>\n",
       "      <th>107015</th>\n",
       "      <td>107015</td>\n",
       "      <td>an interesting and fun course. thanks. dr quincy</td>\n",
       "      <td>5</td>\n",
       "    </tr>\n",
       "    <tr>\n",
       "      <th>107016</th>\n",
       "      <td>107016</td>\n",
       "      <td>very broad perspective, up to date information...</td>\n",
       "      <td>4</td>\n",
       "    </tr>\n",
       "    <tr>\n",
       "      <th>107017</th>\n",
       "      <td>107017</td>\n",
       "      <td>An informative course on the social and financ...</td>\n",
       "      <td>4</td>\n",
       "    </tr>\n",
       "  </tbody>\n",
       "</table>\n",
       "<p>107018 rows × 3 columns</p>\n",
       "</div>"
      ],
      "text/plain": [
       "            Id                                             Review  Label\n",
       "0            0                               good and interesting      5\n",
       "1            1  This class is very helpful to me. Currently, I...      5\n",
       "2            2  like!Prof and TAs are helpful and the discussi...      5\n",
       "3            3  Easy to follow and includes a lot basic and im...      5\n",
       "4            4  Really nice teacher!I could got the point eazl...      4\n",
       "...        ...                                                ...    ...\n",
       "107013  107013  Trendy topic with talks from expertises in the...      4\n",
       "107014  107014  Wonderful! Simple and clear language, good ins...      5\n",
       "107015  107015   an interesting and fun course. thanks. dr quincy      5\n",
       "107016  107016  very broad perspective, up to date information...      4\n",
       "107017  107017  An informative course on the social and financ...      4\n",
       "\n",
       "[107018 rows x 3 columns]"
      ]
     },
     "execution_count": 2,
     "metadata": {},
     "output_type": "execute_result"
    }
   ],
   "source": [
    "# Load data\n",
    "df = pd.read_csv('./data/reviews.csv',  \n",
    "                 low_memory=False)\n",
    "df\n",
    "# reset index\n",
    "# df.set_index('Id', inplace=True)"
   ]
  },
  {
   "cell_type": "code",
   "execution_count": 3,
   "metadata": {},
   "outputs": [
    {
     "data": {
      "text/html": [
       "<div>\n",
       "<style scoped>\n",
       "    .dataframe tbody tr th:only-of-type {\n",
       "        vertical-align: middle;\n",
       "    }\n",
       "\n",
       "    .dataframe tbody tr th {\n",
       "        vertical-align: top;\n",
       "    }\n",
       "\n",
       "    .dataframe thead th {\n",
       "        text-align: right;\n",
       "    }\n",
       "</style>\n",
       "<table border=\"1\" class=\"dataframe\">\n",
       "  <thead>\n",
       "    <tr style=\"text-align: right;\">\n",
       "      <th></th>\n",
       "      <th>Id</th>\n",
       "      <th>Review</th>\n",
       "      <th>Label</th>\n",
       "    </tr>\n",
       "  </thead>\n",
       "  <tbody>\n",
       "    <tr>\n",
       "      <th>0</th>\n",
       "      <td>0</td>\n",
       "      <td>good and interesting</td>\n",
       "      <td>5</td>\n",
       "    </tr>\n",
       "    <tr>\n",
       "      <th>1</th>\n",
       "      <td>1</td>\n",
       "      <td>This class is very helpful to me. Currently, I...</td>\n",
       "      <td>5</td>\n",
       "    </tr>\n",
       "    <tr>\n",
       "      <th>2</th>\n",
       "      <td>2</td>\n",
       "      <td>like!Prof and TAs are helpful and the discussi...</td>\n",
       "      <td>5</td>\n",
       "    </tr>\n",
       "    <tr>\n",
       "      <th>3</th>\n",
       "      <td>3</td>\n",
       "      <td>Easy to follow and includes a lot basic and im...</td>\n",
       "      <td>5</td>\n",
       "    </tr>\n",
       "    <tr>\n",
       "      <th>4</th>\n",
       "      <td>4</td>\n",
       "      <td>Really nice teacher!I could got the point eazl...</td>\n",
       "      <td>4</td>\n",
       "    </tr>\n",
       "  </tbody>\n",
       "</table>\n",
       "</div>"
      ],
      "text/plain": [
       "   Id                                             Review  Label\n",
       "0   0                               good and interesting      5\n",
       "1   1  This class is very helpful to me. Currently, I...      5\n",
       "2   2  like!Prof and TAs are helpful and the discussi...      5\n",
       "3   3  Easy to follow and includes a lot basic and im...      5\n",
       "4   4  Really nice teacher!I could got the point eazl...      4"
      ]
     },
     "execution_count": 3,
     "metadata": {},
     "output_type": "execute_result"
    }
   ],
   "source": [
    "df.head()"
   ]
  },
  {
   "cell_type": "markdown",
   "metadata": {},
   "source": [
    "Thông tin DataFrame:\n",
    "\n",
    "- **Chỉ số (Index):** Range từ 0 đến 568453 (tổng cộng 568454 dòng).\n",
    "- **Số cột:** 3 cột (\"Id\", \"Score\", \"Text\").\n",
    "- **Kiểu dữ liệu cột:**\n",
    "  - \"Id\" và \"Score\": int64.\n",
    "  - \"Text\": object (chuỗi hoặc đối tượng không phải số).\n",
    "- **Giá trị không phải null:**\n",
    "  - Mỗi cột có 568454 giá trị không phải null.\n",
    "- **Dung lượng bộ nhớ:** Khoảng 13.0 MB.\n",
    "\n",
    "> 568454 - 568427 = 27 giá trị null"
   ]
  },
  {
   "cell_type": "code",
   "execution_count": 4,
   "metadata": {},
   "outputs": [
    {
     "name": "stdout",
     "output_type": "stream",
     "text": [
      "<class 'pandas.core.frame.DataFrame'>\n",
      "RangeIndex: 107018 entries, 0 to 107017\n",
      "Data columns (total 3 columns):\n",
      " #   Column  Non-Null Count   Dtype \n",
      "---  ------  --------------   ----- \n",
      " 0   Id      107018 non-null  int64 \n",
      " 1   Review  107018 non-null  object\n",
      " 2   Label   107018 non-null  int64 \n",
      "dtypes: int64(2), object(1)\n",
      "memory usage: 2.4+ MB\n"
     ]
    }
   ],
   "source": [
    "# Info Data:\n",
    "df.info()"
   ]
  },
  {
   "cell_type": "markdown",
   "metadata": {},
   "source": [
    "- `df`: Đây là tên của DataFrame, giả sử đã được định nghĩa trước đó trong mã.\n",
    "\n",
    "- `df.Text`: Lấy cột có tên \"Text\" từ DataFrame `df`.\n",
    "\n",
    "- `.iloc[10]`: Lấy giá trị ở dòng thứ 10 của cột \"Text\"."
   ]
  },
  {
   "cell_type": "code",
   "execution_count": 5,
   "metadata": {},
   "outputs": [
    {
     "data": {
      "text/plain": [
       "Id        0\n",
       "Review    0\n",
       "Label     0\n",
       "dtype: int64"
      ]
     },
     "execution_count": 5,
     "metadata": {},
     "output_type": "execute_result"
    }
   ],
   "source": [
    "# check for null\n",
    "df.isnull().sum()"
   ]
  },
  {
   "cell_type": "markdown",
   "metadata": {},
   "source": [
    "> Xử lý xong các giá trị null, nếu có"
   ]
  },
  {
   "cell_type": "code",
   "execution_count": 6,
   "metadata": {},
   "outputs": [],
   "source": [
    "df=df.rename(columns={'Review': 'Text', 'Label': 'Score'})"
   ]
  },
  {
   "cell_type": "code",
   "execution_count": 7,
   "metadata": {},
   "outputs": [],
   "source": [
    "# Tạo ánh xạ từ điểm số sang nhãn cảm xúc\n",
    "score_to_sentiment = {\n",
    "    5: 'happy',\n",
    "    4: 'satisfied',\n",
    "    3: 'neutral',\n",
    "    2: 'disappointed',\n",
    "    1: 'angry'\n",
    "}\n",
    "\n",
    "# Thay đổi cột \"Score\" thành cột \"Sentiment\"\n",
    "df['Sentiment'] = df['Score'].map(score_to_sentiment)\n",
    "\n",
    "# Loại bỏ cột \"Score\" nếu không cần thiết\n",
    "df = df.drop(columns=['Score'])"
   ]
  },
  {
   "cell_type": "code",
   "execution_count": 8,
   "metadata": {},
   "outputs": [
    {
     "name": "stdout",
     "output_type": "stream",
     "text": [
      "<class 'pandas.core.frame.DataFrame'>\n",
      "RangeIndex: 107018 entries, 0 to 107017\n",
      "Data columns (total 3 columns):\n",
      " #   Column     Non-Null Count   Dtype \n",
      "---  ------     --------------   ----- \n",
      " 0   Id         107018 non-null  int64 \n",
      " 1   Text       107018 non-null  object\n",
      " 2   Sentiment  107018 non-null  object\n",
      "dtypes: int64(1), object(2)\n",
      "memory usage: 2.4+ MB\n"
     ]
    }
   ],
   "source": [
    "# delete null values\n",
    "# Xóa các dòng có giá trị null\n",
    "# check for null\n",
    "df.isnull().sum()\n",
    "# Info Data:\n",
    "df.info()"
   ]
  },
  {
   "cell_type": "code",
   "execution_count": 9,
   "metadata": {},
   "outputs": [
    {
     "data": {
      "text/plain": [
       "21403"
      ]
     },
     "execution_count": 9,
     "metadata": {},
     "output_type": "execute_result"
    }
   ],
   "source": [
    "df.shape[0]//df['Sentiment'].unique().shape[0]"
   ]
  },
  {
   "cell_type": "code",
   "execution_count": 10,
   "metadata": {},
   "outputs": [
    {
     "name": "stdout",
     "output_type": "stream",
     "text": [
      "<class 'pandas.core.frame.DataFrame'>\n",
      "RangeIndex: 107018 entries, 0 to 107017\n",
      "Data columns (total 3 columns):\n",
      " #   Column     Non-Null Count   Dtype \n",
      "---  ------     --------------   ----- \n",
      " 0   Id         107018 non-null  int64 \n",
      " 1   Text       107018 non-null  object\n",
      " 2   Sentiment  107018 non-null  object\n",
      "dtypes: int64(1), object(2)\n",
      "memory usage: 2.4+ MB\n",
      "None\n",
      "Sentiment\n",
      "happy           79173\n",
      "satisfied       18054\n",
      "neutral          5071\n",
      "angry            2469\n",
      "disappointed     2251\n",
      "Name: count, dtype: int64\n"
     ]
    }
   ],
   "source": [
    "import pandas as pd\n",
    "from sklearn.utils import resample\n",
    "import random\n",
    "\n",
    "# Giả sử df đã được tạo trước đó\n",
    "# df = pd.read_csv('your_data.csv')  # Nếu bạn đang tải dữ liệu từ một tệp\n",
    "\n",
    "# Kiểm tra thông tin ban đầu của DataFrame\n",
    "print(df.info())\n",
    "\n",
    "# Kiểm tra phân phối của các nhãn cảm xúc\n",
    "print(df['Sentiment'].value_counts())\n",
    "\n",
    "# Xác định số lượng mẫu mong muốn (chọn số lượng mẫu bằng với lớp nhỏ nhất)\n",
    "split_num=4.5\n",
    "min_samples = df['Sentiment'].value_counts().min()\n",
    "base_balance = df.shape[0]//df['Sentiment'].unique().shape[0]//split_num - min_samples//2\n",
    "def gen_random_balance():\n",
    "    return random.randint(base_balance, base_balance + min_samples//3)\n"
   ]
  },
  {
   "cell_type": "code",
   "execution_count": 11,
   "metadata": {},
   "outputs": [
    {
     "data": {
      "text/plain": [
       "3828"
      ]
     },
     "execution_count": 11,
     "metadata": {},
     "output_type": "execute_result"
    }
   ],
   "source": [
    "desired_samples = gen_random_balance()\n",
    "desired_samples"
   ]
  },
  {
   "cell_type": "code",
   "execution_count": 12,
   "metadata": {},
   "outputs": [
    {
     "name": "stdout",
     "output_type": "stream",
     "text": [
      "Sentiment\n",
      "neutral         4356\n",
      "satisfied       4310\n",
      "disappointed    4270\n",
      "happy           4222\n",
      "angry           4200\n",
      "Name: count, dtype: int64\n"
     ]
    }
   ],
   "source": [
    "# Tạo tập dữ liệu cân bằng\n",
    "balanced_data = pd.DataFrame()\n",
    "\n",
    "for sentiment in df['Sentiment'].unique():\n",
    "    sentiment_data = df[df['Sentiment'] == sentiment]\n",
    "    current_samples = len(sentiment_data)\n",
    "    desired_samples = gen_random_balance()\n",
    "    if current_samples > desired_samples:\n",
    "        sentiment_samples = resample(sentiment_data, \n",
    "                                     replace=False, \n",
    "                                     n_samples=desired_samples, \n",
    "                                     random_state=42)\n",
    "    else:\n",
    "        sentiment_samples = resample(sentiment_data, \n",
    "                                     replace=True, \n",
    "                                     n_samples=desired_samples, \n",
    "                                     random_state=42)\n",
    "    \n",
    "    balanced_data = pd.concat([balanced_data, sentiment_samples])\n",
    "\n",
    "# Kiểm tra kết quả cân bằng dữ liệu\n",
    "print(balanced_data['Sentiment'].value_counts())\n"
   ]
  },
  {
   "cell_type": "code",
   "execution_count": 13,
   "metadata": {},
   "outputs": [],
   "source": [
    "import matplotlib.pyplot as plt\n",
    "import seaborn as sns"
   ]
  },
  {
   "cell_type": "code",
   "execution_count": 14,
   "metadata": {},
   "outputs": [],
   "source": [
    "df=balanced_data"
   ]
  },
  {
   "cell_type": "code",
   "execution_count": 15,
   "metadata": {},
   "outputs": [
    {
     "data": {
      "image/png": "[encoded data removed]",
      "text/plain": [
       "<Figure size 1000x600 with 1 Axes>"
      ]
     },
     "metadata": {},
     "output_type": "display_data"
    }
   ],
   "source": [
    "# Lấy Series từ df['Score'].value_counts()\n",
    "score_counts = df['Sentiment'].value_counts()\n",
    "\n",
    "# Thiết lập môi trường trực quan\n",
    "sns.set(style=\"whitegrid\", palette=\"pastel\")\n",
    "\n",
    "# Vẽ biểu đồ thanh\n",
    "plt.figure(figsize=(10, 6))\n",
    "sns.barplot(x=score_counts.index, y=score_counts.values,\n",
    "            palette=\"Spectral\", legend=False, hue=score_counts.values)\n",
    "plt.title('Sentiment Reviews')\n",
    "plt.xlabel('Sentiment')\n",
    "plt.ylabel('Quantity')\n",
    "plt.show()"
   ]
  },
  {
   "cell_type": "code",
   "execution_count": 16,
   "metadata": {},
   "outputs": [
    {
     "name": "stdout",
     "output_type": "stream",
     "text": [
      "Max length:  6526\n"
     ]
    }
   ],
   "source": [
    "# find the maximum length\n",
    "max_len = max([len(text) for text in df.Text])\n",
    "print('Max length: ', max_len)"
   ]
  },
  {
   "cell_type": "code",
   "execution_count": 17,
   "metadata": {},
   "outputs": [
    {
     "data": {
      "text/html": [
       "<div>\n",
       "<style scoped>\n",
       "    .dataframe tbody tr th:only-of-type {\n",
       "        vertical-align: middle;\n",
       "    }\n",
       "\n",
       "    .dataframe tbody tr th {\n",
       "        vertical-align: top;\n",
       "    }\n",
       "\n",
       "    .dataframe thead th {\n",
       "        text-align: right;\n",
       "    }\n",
       "</style>\n",
       "<table border=\"1\" class=\"dataframe\">\n",
       "  <thead>\n",
       "    <tr style=\"text-align: right;\">\n",
       "      <th></th>\n",
       "      <th>Id</th>\n",
       "      <th>Text</th>\n",
       "      <th>Sentiment</th>\n",
       "      <th>Label</th>\n",
       "    </tr>\n",
       "  </thead>\n",
       "  <tbody>\n",
       "    <tr>\n",
       "      <th>79636</th>\n",
       "      <td>79636</td>\n",
       "      <td>Great course and great teacher. Great overview...</td>\n",
       "      <td>happy</td>\n",
       "      <td>0</td>\n",
       "    </tr>\n",
       "    <tr>\n",
       "      <th>54645</th>\n",
       "      <td>54645</td>\n",
       "      <td>I have been struggling to initiate Machine lea...</td>\n",
       "      <td>happy</td>\n",
       "      <td>0</td>\n",
       "    </tr>\n",
       "    <tr>\n",
       "      <th>39397</th>\n",
       "      <td>39397</td>\n",
       "      <td>Loved the class</td>\n",
       "      <td>happy</td>\n",
       "      <td>0</td>\n",
       "    </tr>\n",
       "    <tr>\n",
       "      <th>78360</th>\n",
       "      <td>78360</td>\n",
       "      <td>Very easy if you have a programming background...</td>\n",
       "      <td>happy</td>\n",
       "      <td>0</td>\n",
       "    </tr>\n",
       "    <tr>\n",
       "      <th>106982</th>\n",
       "      <td>106982</td>\n",
       "      <td>Great class!!!!</td>\n",
       "      <td>happy</td>\n",
       "      <td>0</td>\n",
       "    </tr>\n",
       "  </tbody>\n",
       "</table>\n",
       "</div>"
      ],
      "text/plain": [
       "            Id                                               Text Sentiment  \\\n",
       "79636    79636  Great course and great teacher. Great overview...     happy   \n",
       "54645    54645  I have been struggling to initiate Machine lea...     happy   \n",
       "39397    39397                                    Loved the class     happy   \n",
       "78360    78360  Very easy if you have a programming background...     happy   \n",
       "106982  106982                                    Great class!!!!     happy   \n",
       "\n",
       "        Label  \n",
       "79636       0  \n",
       "54645       0  \n",
       "39397       0  \n",
       "78360       0  \n",
       "106982      0  "
      ]
     },
     "execution_count": 17,
     "metadata": {},
     "output_type": "execute_result"
    }
   ],
   "source": [
    "### creating labels ###\n",
    "\n",
    "possible_labels = df.Sentiment.unique()\n",
    "\n",
    "## creating a dict to convert string categories to numbers ##\n",
    "\n",
    "label_dict = {}\n",
    "for index, possible_label in enumerate(possible_labels):\n",
    "    label_dict[possible_label] = index\n",
    "    \n",
    "df['Label'] = df.Sentiment.replace(label_dict)\n",
    "df.head()"
   ]
  },
  {
   "cell_type": "code",
   "execution_count": 18,
   "metadata": {},
   "outputs": [
    {
     "data": {
      "text/plain": [
       "{'happy': 0, 'satisfied': 1, 'neutral': 2, 'disappointed': 3, 'angry': 4}"
      ]
     },
     "execution_count": 18,
     "metadata": {},
     "output_type": "execute_result"
    }
   ],
   "source": [
    "label_dict"
   ]
  },
  {
   "cell_type": "markdown",
   "metadata": {},
   "source": [
    "## 2. Spliting into Train, Test, Val"
   ]
  },
  {
   "cell_type": "markdown",
   "metadata": {},
   "source": [
    "\n",
    "1. **`from sklearn.model_selection import train_test_split`**: \n",
    "   - Nhập hàm `train_test_split` từ scikit-learn để thực hiện chia dữ liệu thành tập huấn luyện và tập kiểm tra.\n",
    "\n",
    "2. **`X_train, X_val, y_train, y_val = train_test_split(df.index.values, df.Score.values, test_size=0.15, random_state=17, stratify=df.Score.values)`**:\n",
    "   - `df.index.values`: Chọn cột chỉ mục của DataFrame (`index`), giả sử rằng nó chứa các giá trị duy nhất hoặc độc lập.\n",
    "   - `df.Score.values`: Chọn cột \"Score\" làm giá trị mục tiêu.\n",
    "   - `test_size=0.15`: Thiết lập tỷ lệ tập kiểm tra là 15%, tỷ lệ tập huấn luyện là 85%.\n",
    "   - `random_state=17`: Đặt một giá trị ngẫu nhiên để đảm bảo tái tạo kết quả nếu bạn muốn chạy lại mã và nhận được kết quả giống nhau.\n",
    "   - `stratify=df.Score.values`: Thiết lập để đảm bảo phân phối của tập kiểm tra giữ nguyên tỷ lệ của các lớp (stratified sampling), đặc biệt quan trọng nếu dữ liệu không cân bằng theo các giá trị của \"Score\".\n",
    "\n",
    "3. **`X_train, X_val, y_train, y_val`**:\n",
    "   - `X_train`, `X_val`: Chứa các chỉ mục (index) của dữ liệu tương ứng trong tập huấn luyện và tập kiểm tra.\n",
    "   - `y_train`, `y_val`: Chứa các giá trị \"Score\" tương ứng với tập huấn luyện và tập kiểm tra.\n",
    "\n",
    "Tổng cộng, đoạn mã này chia dữ liệu thành tập huấn luyện và tập kiểm tra, sử dụng 85% dữ liệu cho tập huấn luyện và 15% cho tập kiểm tra, và giữ nguyên tỷ lệ của các lớp trong quá trình chia dữ liệu. Điều này làm cho mô hình có thể học từ một phân phối dữ liệu tương tự như dữ liệu gốc."
   ]
  },
  {
   "cell_type": "code",
   "execution_count": 19,
   "metadata": {},
   "outputs": [
    {
     "data": {
      "text/html": [
       "<div>\n",
       "<style scoped>\n",
       "    .dataframe tbody tr th:only-of-type {\n",
       "        vertical-align: middle;\n",
       "    }\n",
       "\n",
       "    .dataframe tbody tr th {\n",
       "        vertical-align: top;\n",
       "    }\n",
       "\n",
       "    .dataframe thead th {\n",
       "        text-align: right;\n",
       "    }\n",
       "</style>\n",
       "<table border=\"1\" class=\"dataframe\">\n",
       "  <thead>\n",
       "    <tr style=\"text-align: right;\">\n",
       "      <th></th>\n",
       "      <th>Id</th>\n",
       "      <th>Text</th>\n",
       "      <th>Sentiment</th>\n",
       "      <th>Label</th>\n",
       "      <th>data_type</th>\n",
       "    </tr>\n",
       "  </thead>\n",
       "  <tbody>\n",
       "    <tr>\n",
       "      <th>79636</th>\n",
       "      <td>79636</td>\n",
       "      <td>Great course and great teacher. Great overview...</td>\n",
       "      <td>happy</td>\n",
       "      <td>0</td>\n",
       "      <td>not_set</td>\n",
       "    </tr>\n",
       "    <tr>\n",
       "      <th>54645</th>\n",
       "      <td>54645</td>\n",
       "      <td>I have been struggling to initiate Machine lea...</td>\n",
       "      <td>happy</td>\n",
       "      <td>0</td>\n",
       "      <td>not_set</td>\n",
       "    </tr>\n",
       "    <tr>\n",
       "      <th>39397</th>\n",
       "      <td>39397</td>\n",
       "      <td>Loved the class</td>\n",
       "      <td>happy</td>\n",
       "      <td>0</td>\n",
       "      <td>not_set</td>\n",
       "    </tr>\n",
       "    <tr>\n",
       "      <th>78360</th>\n",
       "      <td>78360</td>\n",
       "      <td>Very easy if you have a programming background...</td>\n",
       "      <td>happy</td>\n",
       "      <td>0</td>\n",
       "      <td>not_set</td>\n",
       "    </tr>\n",
       "    <tr>\n",
       "      <th>106982</th>\n",
       "      <td>106982</td>\n",
       "      <td>Great class!!!!</td>\n",
       "      <td>happy</td>\n",
       "      <td>0</td>\n",
       "      <td>not_set</td>\n",
       "    </tr>\n",
       "  </tbody>\n",
       "</table>\n",
       "</div>"
      ],
      "text/plain": [
       "            Id                                               Text Sentiment  \\\n",
       "79636    79636  Great course and great teacher. Great overview...     happy   \n",
       "54645    54645  I have been struggling to initiate Machine lea...     happy   \n",
       "39397    39397                                    Loved the class     happy   \n",
       "78360    78360  Very easy if you have a programming background...     happy   \n",
       "106982  106982                                    Great class!!!!     happy   \n",
       "\n",
       "        Label data_type  \n",
       "79636       0   not_set  \n",
       "54645       0   not_set  \n",
       "39397       0   not_set  \n",
       "78360       0   not_set  \n",
       "106982      0   not_set  "
      ]
     },
     "execution_count": 19,
     "metadata": {},
     "output_type": "execute_result"
    }
   ],
   "source": [
    "from sklearn.model_selection import train_test_split\n",
    "\n",
    "# train test split\n",
    "X_train, X_val, y_train, y_val = train_test_split(df.index.values,\n",
    "                                                  df.Sentiment.values,\n",
    "                                                  test_size=0.15,\n",
    "                                                  random_state=17,\n",
    "                                                  stratify=df.Sentiment.values)\n",
    "# create new column\n",
    "df['data_type'] = ['not_set'] * df.shape[0]\n",
    "df.head()"
   ]
  },
  {
   "cell_type": "code",
   "execution_count": 20,
   "metadata": {},
   "outputs": [],
   "source": [
    "# fill in data type\n",
    "df.loc[X_train, 'data_type'] = 'train'\n",
    "df.loc[X_val, 'data_type'] = 'val'\n"
   ]
  },
  {
   "cell_type": "code",
   "execution_count": 21,
   "metadata": {},
   "outputs": [
    {
     "data": {
      "text/html": [
       "<div>\n",
       "<style scoped>\n",
       "    .dataframe tbody tr th:only-of-type {\n",
       "        vertical-align: middle;\n",
       "    }\n",
       "\n",
       "    .dataframe tbody tr th {\n",
       "        vertical-align: top;\n",
       "    }\n",
       "\n",
       "    .dataframe thead th {\n",
       "        text-align: right;\n",
       "    }\n",
       "</style>\n",
       "<table border=\"1\" class=\"dataframe\">\n",
       "  <thead>\n",
       "    <tr style=\"text-align: right;\">\n",
       "      <th></th>\n",
       "      <th></th>\n",
       "      <th>Id</th>\n",
       "      <th>Text</th>\n",
       "      <th>Label</th>\n",
       "    </tr>\n",
       "    <tr>\n",
       "      <th>Sentiment</th>\n",
       "      <th>data_type</th>\n",
       "      <th></th>\n",
       "      <th></th>\n",
       "      <th></th>\n",
       "    </tr>\n",
       "  </thead>\n",
       "  <tbody>\n",
       "    <tr>\n",
       "      <th rowspan=\"2\" valign=\"top\">angry</th>\n",
       "      <th>train</th>\n",
       "      <td>2778</td>\n",
       "      <td>2778</td>\n",
       "      <td>2778</td>\n",
       "    </tr>\n",
       "    <tr>\n",
       "      <th>val</th>\n",
       "      <td>1422</td>\n",
       "      <td>1422</td>\n",
       "      <td>1422</td>\n",
       "    </tr>\n",
       "    <tr>\n",
       "      <th rowspan=\"2\" valign=\"top\">disappointed</th>\n",
       "      <th>train</th>\n",
       "      <td>2707</td>\n",
       "      <td>2707</td>\n",
       "      <td>2707</td>\n",
       "    </tr>\n",
       "    <tr>\n",
       "      <th>val</th>\n",
       "      <td>1563</td>\n",
       "      <td>1563</td>\n",
       "      <td>1563</td>\n",
       "    </tr>\n",
       "    <tr>\n",
       "      <th rowspan=\"2\" valign=\"top\">happy</th>\n",
       "      <th>train</th>\n",
       "      <td>3589</td>\n",
       "      <td>3589</td>\n",
       "      <td>3589</td>\n",
       "    </tr>\n",
       "    <tr>\n",
       "      <th>val</th>\n",
       "      <td>633</td>\n",
       "      <td>633</td>\n",
       "      <td>633</td>\n",
       "    </tr>\n",
       "    <tr>\n",
       "      <th rowspan=\"2\" valign=\"top\">neutral</th>\n",
       "      <th>train</th>\n",
       "      <td>3703</td>\n",
       "      <td>3703</td>\n",
       "      <td>3703</td>\n",
       "    </tr>\n",
       "    <tr>\n",
       "      <th>val</th>\n",
       "      <td>653</td>\n",
       "      <td>653</td>\n",
       "      <td>653</td>\n",
       "    </tr>\n",
       "    <tr>\n",
       "      <th rowspan=\"2\" valign=\"top\">satisfied</th>\n",
       "      <th>train</th>\n",
       "      <td>3663</td>\n",
       "      <td>3663</td>\n",
       "      <td>3663</td>\n",
       "    </tr>\n",
       "    <tr>\n",
       "      <th>val</th>\n",
       "      <td>647</td>\n",
       "      <td>647</td>\n",
       "      <td>647</td>\n",
       "    </tr>\n",
       "  </tbody>\n",
       "</table>\n",
       "</div>"
      ],
      "text/plain": [
       "                          Id  Text  Label\n",
       "Sentiment    data_type                   \n",
       "angry        train      2778  2778   2778\n",
       "             val        1422  1422   1422\n",
       "disappointed train      2707  2707   2707\n",
       "             val        1563  1563   1563\n",
       "happy        train      3589  3589   3589\n",
       "             val         633   633    633\n",
       "neutral      train      3703  3703   3703\n",
       "             val         653   653    653\n",
       "satisfied    train      3663  3663   3663\n",
       "             val         647   647    647"
      ]
     },
     "execution_count": 21,
     "metadata": {},
     "output_type": "execute_result"
    }
   ],
   "source": [
    "df.groupby(['Sentiment','data_type']).count()"
   ]
  },
  {
   "cell_type": "markdown",
   "metadata": {},
   "source": [
    "## Tokenizing data"
   ]
  },
  {
   "cell_type": "code",
   "execution_count": 22,
   "metadata": {},
   "outputs": [
    {
     "name": "stderr",
     "output_type": "stream",
     "text": [
      "Truncation was not explicitly activated but `max_length` is provided a specific value, please use `truncation=True` to explicitly truncate examples to max length. Defaulting to 'longest_first' truncation strategy. If you encode pairs of sequences (GLUE-style) with the tokenizer you can select this strategy more precisely by providing a specific strategy to `truncation`.\n",
      "d:\\Big_Project\\Mashine-Learning---RoBerta---Base-Bert\\venv\\lib\\site-packages\\transformers\\tokenization_utils_base.py:2614: FutureWarning: The `pad_to_max_length` argument is deprecated and will be removed in a future version, use `padding=True` or `padding='longest'` to pad to the longest sequence in the batch, or use `padding='max_length'` to pad to a max length. In this case, you can give a specific length with `max_length` (e.g. `max_length=45`) or leave max_length to None to pad to the maximal input size of the model (e.g. 512 for Bert).\n",
      "  warnings.warn(\n"
     ]
    }
   ],
   "source": [
    "# Using the BERT tokenizer from the 'bert-base-uncased' model\n",
    "# and setting do_lower_case to True to ensure all text is lowercased\n",
    "tokenizer = BertTokenizer.from_pretrained('bert-base-uncased', \n",
    "                                          do_lower_case=True)\n",
    "                                          \n",
    "\n",
    "# Encoding the text data in the training set using batch_encode_plus\n",
    "# This method tokenizes and encodes a batch of sequences, adding special tokens,\n",
    "# padding the sequences to the same length, and returning PyTorch tensors\n",
    "encoded_data_train = tokenizer.batch_encode_plus(\n",
    "    df[df.data_type=='train'].Text.values,            # Extracting text data for training\n",
    "    add_special_tokens=True,                          # Adding special tokens like [CLS] and [SEP]\n",
    "    return_attention_mask=True,                      # Returning attention masks to focus on actual tokens\n",
    "    pad_to_max_length=True,                          # Padding sequences to the same length\n",
    "    max_length=256,                                   # Maximum length of each sequence\n",
    "    return_tensors='pt'                               # Returning PyTorch tensors\n",
    ")\n",
    "\n",
    "# Encoding the text data in the validation set using batch_encode_plus\n",
    "encoded_data_val = tokenizer.batch_encode_plus(\n",
    "    df[df.data_type=='val'].Text.values,              # Extracting text data for validation\n",
    "    add_special_tokens=True,                          # Adding special tokens like [CLS] and [SEP]\n",
    "    return_attention_mask=True,                      # Returning attention masks to focus on actual tokens\n",
    "    pad_to_max_length=True,                          # Padding sequences to the same length\n",
    "    max_length=256,                                   # Maximum length of each sequence\n",
    "    return_tensors='pt'                               # Returning PyTorch tensors\n",
    ")\n",
    "\n",
    "# Extracting input IDs, attention masks, and labels for the training set\n",
    "input_ids_train = encoded_data_train['input_ids']     # Input IDs representing tokenized text\n",
    "attention_masks_train = encoded_data_train['attention_mask']  # Attention masks indicating which tokens to attend to\n",
    "labels_train = torch.tensor(df[df.data_type=='train'].Label.values)  # Labels for the training set\n",
    "\n",
    "# Extracting input IDs, attention masks, and labels for the validation set\n",
    "input_ids_val = encoded_data_val['input_ids']         # Input IDs representing tokenized text\n",
    "attention_masks_val = encoded_data_val['attention_mask']   # Attention masks indicating which tokens to attend to\n",
    "labels_val = torch.tensor(df[df.data_type=='val'].Label.values)   # Labels for the validation set\n",
    "\n",
    "# Creating PyTorch datasets for training and validation\n",
    "dataset_train = TensorDataset(input_ids_train, attention_masks_train, labels_train)  # Training dataset\n",
    "dataset_val = TensorDataset(input_ids_val, attention_masks_val, labels_val)          # Validation dataset"
   ]
  },
  {
   "cell_type": "markdown",
   "metadata": {},
   "source": [
    "## Bert Set up"
   ]
  },
  {
   "cell_type": "code",
   "execution_count": 23,
   "metadata": {},
   "outputs": [
    {
     "name": "stderr",
     "output_type": "stream",
     "text": [
      "Some weights of BertForSequenceClassification were not initialized from the model checkpoint at bert-base-uncased and are newly initialized: ['classifier.bias', 'classifier.weight']\n",
      "You should probably TRAIN this model on a down-stream task to be able to use it for predictions and inference.\n",
      "d:\\Big_Project\\Mashine-Learning---RoBerta---Base-Bert\\venv\\lib\\site-packages\\transformers\\optimization.py:411: FutureWarning: This implementation of AdamW is deprecated and will be removed in a future version. Use the PyTorch implementation torch.optim.AdamW instead, or set `no_deprecation_warning=True` to disable this warning\n",
      "  warnings.warn(\n"
     ]
    }
   ],
   "source": [
    "# Initializing the BERT model for sequence classification from the pre-trained 'bert-base-uncased' model\n",
    "# Specifying the number of labels in the output layer based on the length of the label dictionary\n",
    "# Setting output_attentions and output_hidden_states to False to exclude additional outputs\n",
    "# Setting resume_download to True to resume download if interrupted\n",
    "model = BertForSequenceClassification.from_pretrained('bert-base-uncased',\n",
    "                                                        num_labels=len(label_dict),\n",
    "                                                        output_attentions=False,\n",
    "                                                        output_hidden_states=False)\n",
    "model.load_state_dict(torch.load('../model/finetuned_BERT_epoch_7.model'))\n",
    "\n",
    "# Defining the batch size for training and validation\n",
    "batch_size = 16\n",
    "\n",
    "# Creating data loaders for training and validation sets\n",
    "# Using RandomSampler for training data and SequentialSampler for validation data\n",
    "dataloader_train = DataLoader(dataset_train, \n",
    "                              sampler=RandomSampler(dataset_train), \n",
    "                              batch_size=batch_size)\n",
    "\n",
    "dataloader_validation = DataLoader(dataset_val, \n",
    "                                   sampler=SequentialSampler(dataset_val), \n",
    "                                   batch_size=batch_size)\n",
    "\n",
    "# Initializing the AdamW optimizer with the BERT model parameters\n",
    "# Setting the learning rate to 2e-5 and epsilon to 1e-8\n",
    "optimizer = AdamW(model.parameters(),\n",
    "                  lr=2e-5, \n",
    "                  eps=1e-8)\n",
    "\n",
    "# Defining the number of epochs for training\n",
    "epochs = 7\n",
    "\n",
    "# Creating a linear scheduler with warmup for adjusting learning rates during training\n",
    "scheduler = get_linear_schedule_with_warmup(optimizer, \n",
    "                                            num_warmup_steps=0,\n",
    "                                            num_training_steps=len(dataloader_train)*epochs)\n",
    "\n",
    "# Defining a function to calculate the F1 score\n",
    "def f1_score_func(preds, labels):\n",
    "    preds_flat = np.argmax(preds, axis=1).flatten()\n",
    "    labels_flat = labels.flatten()\n",
    "    return f1_score(labels_flat, preds_flat, average='weighted')\n",
    "\n",
    "# Defining a function to calculate accuracy per class\n",
    "def accuracy_per_class(preds, labels):\n",
    "    label_dict_inverse = {v: k for k, v in label_dict.items()}\n",
    "    \n",
    "    preds_flat = np.argmax(preds, axis=1).flatten()\n",
    "    labels_flat = labels.flatten()\n",
    "\n",
    "    for label in np.unique(labels_flat):\n",
    "        y_preds = preds_flat[labels_flat==label]\n",
    "        y_true = labels_flat[labels_flat==label]\n",
    "        print(f'Class: {label_dict_inverse[label]}')\n",
    "        print(f'Accuracy: {len(y_preds[y_preds==label])}/{len(y_true)}\\n')"
   ]
  },
  {
   "cell_type": "markdown",
   "metadata": {},
   "source": [
    "## Creating our Training Loop\n",
    "Approach adapted from an older version of HuggingFace's run_glue.py script. Accessible here."
   ]
  },
  {
   "cell_type": "code",
   "execution_count": 24,
   "metadata": {},
   "outputs": [],
   "source": [
    "### assigning seed to be able to reproduce results ###\n",
    "seed_val = 17\n",
    "random.seed(seed_val)\n",
    "np.random.seed(seed_val)\n",
    "torch.manual_seed(seed_val)\n",
    "torch.cuda.manual_seed_all(seed_val)"
   ]
  },
  {
   "cell_type": "code",
   "execution_count": 25,
   "metadata": {},
   "outputs": [
    {
     "name": "stdout",
     "output_type": "stream",
     "text": [
      "cuda\n"
     ]
    }
   ],
   "source": [
    "# Checking for GPU availability and assigning the device accordingly\n",
    "device = torch.device('cuda' if torch.cuda.is_available() else 'cpu')\n",
    "model.to(device)  # Moving the model to the selected device\n",
    "print(device)  # Printing the device (GPU or CPU) being used\n",
    "\n",
    "# Defining the evaluation function for the validation set\n",
    "def evaluate(dataloader_val):\n",
    "\n",
    "    model.eval()  # Setting the model to evaluation mode\n",
    "    \n",
    "    loss_val_total = 0  # Initializing total validation loss\n",
    "    predictions, true_vals = [], []  # Lists to store predictions and true values\n",
    "    \n",
    "    # Iterating through batches in the validation dataloader\n",
    "    for batch in dataloader_val:\n",
    "        \n",
    "        batch = tuple(b.to(device) for b in batch)  # Moving batch tensors to the device\n",
    "        \n",
    "        inputs = {'input_ids':      batch[0],      # Input token IDs\n",
    "                  'attention_mask': batch[1],      # Attention masks\n",
    "                  'labels':         batch[2],      # Labels\n",
    "                 }\n",
    "\n",
    "        with torch.no_grad():  # Disabling gradient calculation        \n",
    "            outputs = model(**inputs)  # Forward pass\n",
    "            \n",
    "        loss = outputs[0]  # Extracting loss value from the output\n",
    "        logits = outputs[1]  # Predicted logits\n",
    "        loss_val_total += loss.item()  # Accumulating validation loss\n",
    "\n",
    "        logits = logits.detach().cpu().numpy()  # Detaching logits from computation graph and moving to CPU\n",
    "        label_ids = inputs['labels'].cpu().numpy()  # Moving label IDs to CPU\n",
    "        predictions.append(logits)  # Appending predictions to the list\n",
    "        true_vals.append(label_ids)  # Appending true values to the list\n",
    "    \n",
    "    loss_val_avg = loss_val_total/len(dataloader_val)  # Calculating average validation loss\n",
    "    \n",
    "    # Concatenating predictions and true values to form arrays\n",
    "    predictions = np.concatenate(predictions, axis=0)\n",
    "    true_vals = np.concatenate(true_vals, axis=0)\n",
    "            \n",
    "    return loss_val_avg, predictions, true_vals  # Returning validation loss, predictions, and true values"
   ]
  },
  {
   "cell_type": "code",
   "execution_count": 26,
   "metadata": {},
   "outputs": [],
   "source": [
    "import json\n",
    "def write_json(data, filename):\n",
    "    with open(filename, 'w', encoding='utf-8') as f:\n",
    "        json.dump(data, f, ensure_ascii=False, indent=4)"
   ]
  },
  {
   "cell_type": "code",
   "execution_count": 27,
   "metadata": {},
   "outputs": [
    {
     "data": {
      "application/vnd.jupyter.widget-view+json": {
       "model_id": "4f07c838ffe2404c99bbdbb9a700586e",
       "version_major": 2,
       "version_minor": 0
      },
      "text/plain": [
       "  0%|          | 0/7 [00:00<?, ?it/s]"
      ]
     },
     "metadata": {},
     "output_type": "display_data"
    },
    {
     "data": {
      "application/vnd.jupyter.widget-view+json": {
       "model_id": "e90daccd9d2b4f199ce060d0d0c91be9",
       "version_major": 2,
       "version_minor": 0
      },
      "text/plain": [
       "Epoch 1:   0%|          | 0/1028 [00:00<?, ?it/s]"
      ]
     },
     "metadata": {},
     "output_type": "display_data"
    },
    {
     "name": "stdout",
     "output_type": "stream",
     "text": [
      "\n",
      "Epoch 1\n",
      "Training loss: 0.36712052581237503\n",
      "Class: happy\n",
      "Accuracy: 598/633\n",
      "\n",
      "Class: satisfied\n",
      "Accuracy: 539/647\n",
      "\n",
      "Class: neutral\n",
      "Accuracy: 574/653\n",
      "\n",
      "Class: disappointed\n",
      "Accuracy: 1352/1563\n",
      "\n",
      "Class: angry\n",
      "Accuracy: 1290/1422\n",
      "\n",
      "Validation loss: 0.34551606704359994\n",
      "F1 Score (Weighted): 0.8861271323729933\n"
     ]
    },
    {
     "data": {
      "application/vnd.jupyter.widget-view+json": {
       "model_id": "ca7f895fd243489b944f8454eaa097b4",
       "version_major": 2,
       "version_minor": 0
      },
      "text/plain": [
       "Epoch 2:   0%|          | 0/1028 [00:00<?, ?it/s]"
      ]
     },
     "metadata": {},
     "output_type": "display_data"
    },
    {
     "name": "stdout",
     "output_type": "stream",
     "text": [
      "\n",
      "Epoch 2\n",
      "Training loss: 0.2466713987442154\n",
      "Class: happy\n",
      "Accuracy: 592/633\n",
      "\n",
      "Class: satisfied\n",
      "Accuracy: 540/647\n",
      "\n",
      "Class: neutral\n",
      "Accuracy: 588/653\n",
      "\n",
      "Class: disappointed\n",
      "Accuracy: 1318/1563\n",
      "\n",
      "Class: angry\n",
      "Accuracy: 1294/1422\n",
      "\n",
      "Validation loss: 0.45491202212129295\n",
      "F1 Score (Weighted): 0.8826841347467751\n"
     ]
    },
    {
     "data": {
      "application/vnd.jupyter.widget-view+json": {
       "model_id": "90132d81128c4476aa876548acba278a",
       "version_major": 2,
       "version_minor": 0
      },
      "text/plain": [
       "Epoch 3:   0%|          | 0/1028 [00:00<?, ?it/s]"
      ]
     },
     "metadata": {},
     "output_type": "display_data"
    },
    {
     "name": "stdout",
     "output_type": "stream",
     "text": [
      "\n",
      "Epoch 3\n",
      "Training loss: 0.17159204892469895\n",
      "Class: happy\n",
      "Accuracy: 596/633\n",
      "\n",
      "Class: satisfied\n",
      "Accuracy: 529/647\n",
      "\n",
      "Class: neutral\n",
      "Accuracy: 570/653\n",
      "\n",
      "Class: disappointed\n",
      "Accuracy: 1350/1563\n",
      "\n",
      "Class: angry\n",
      "Accuracy: 1326/1422\n",
      "\n",
      "Validation loss: 0.5133874432653243\n",
      "F1 Score (Weighted): 0.8892866039091448\n"
     ]
    },
    {
     "data": {
      "application/vnd.jupyter.widget-view+json": {
       "model_id": "8d19de0badd84a0996f804cae82fa32d",
       "version_major": 2,
       "version_minor": 0
      },
      "text/plain": [
       "Epoch 4:   0%|          | 0/1028 [00:00<?, ?it/s]"
      ]
     },
     "metadata": {},
     "output_type": "display_data"
    },
    {
     "name": "stdout",
     "output_type": "stream",
     "text": [
      "\n",
      "Epoch 4\n",
      "Training loss: 0.1272677735823926\n",
      "Class: happy\n",
      "Accuracy: 577/633\n",
      "\n",
      "Class: satisfied\n",
      "Accuracy: 542/647\n",
      "\n",
      "Class: neutral\n",
      "Accuracy: 578/653\n",
      "\n",
      "Class: disappointed\n",
      "Accuracy: 1345/1563\n",
      "\n",
      "Class: angry\n",
      "Accuracy: 1301/1422\n",
      "\n",
      "Validation loss: 0.5713798307196476\n",
      "F1 Score (Weighted): 0.8840725671318016\n"
     ]
    },
    {
     "data": {
      "application/vnd.jupyter.widget-view+json": {
       "model_id": "a90aa6b0dd7d47b191cb22aba4749313",
       "version_major": 2,
       "version_minor": 0
      },
      "text/plain": [
       "Epoch 5:   0%|          | 0/1028 [00:00<?, ?it/s]"
      ]
     },
     "metadata": {},
     "output_type": "display_data"
    },
    {
     "name": "stdout",
     "output_type": "stream",
     "text": [
      "\n",
      "Epoch 5\n",
      "Training loss: 0.09274639192187673\n",
      "Class: happy\n",
      "Accuracy: 582/633\n",
      "\n",
      "Class: satisfied\n",
      "Accuracy: 556/647\n",
      "\n",
      "Class: neutral\n",
      "Accuracy: 580/653\n",
      "\n",
      "Class: disappointed\n",
      "Accuracy: 1320/1563\n",
      "\n",
      "Class: angry\n",
      "Accuracy: 1295/1422\n",
      "\n",
      "Validation loss: 0.6711452932637706\n",
      "F1 Score (Weighted): 0.883011202440376\n"
     ]
    },
    {
     "data": {
      "application/vnd.jupyter.widget-view+json": {
       "model_id": "cffde0e8d0a14306851685294ed1c911",
       "version_major": 2,
       "version_minor": 0
      },
      "text/plain": [
       "Epoch 6:   0%|          | 0/1028 [00:00<?, ?it/s]"
      ]
     },
     "metadata": {},
     "output_type": "display_data"
    },
    {
     "name": "stdout",
     "output_type": "stream",
     "text": [
      "\n",
      "Epoch 6\n",
      "Training loss: 0.07293758138302842\n",
      "Class: happy\n",
      "Accuracy: 580/633\n",
      "\n",
      "Class: satisfied\n",
      "Accuracy: 556/647\n",
      "\n",
      "Class: neutral\n",
      "Accuracy: 586/653\n",
      "\n",
      "Class: disappointed\n",
      "Accuracy: 1322/1563\n",
      "\n",
      "Class: angry\n",
      "Accuracy: 1289/1422\n",
      "\n",
      "Validation loss: 0.6813170959919391\n",
      "F1 Score (Weighted): 0.8828314687740775\n"
     ]
    },
    {
     "data": {
      "application/vnd.jupyter.widget-view+json": {
       "model_id": "4eba4bf950b7415c9afef904049e271b",
       "version_major": 2,
       "version_minor": 0
      },
      "text/plain": [
       "Epoch 7:   0%|          | 0/1028 [00:00<?, ?it/s]"
      ]
     },
     "metadata": {},
     "output_type": "display_data"
    },
    {
     "name": "stdout",
     "output_type": "stream",
     "text": [
      "\n",
      "Epoch 7\n",
      "Training loss: 0.05593433881319827\n",
      "Class: happy\n",
      "Accuracy: 584/633\n",
      "\n",
      "Class: satisfied\n",
      "Accuracy: 552/647\n",
      "\n",
      "Class: neutral\n",
      "Accuracy: 579/653\n",
      "\n",
      "Class: disappointed\n",
      "Accuracy: 1335/1563\n",
      "\n",
      "Class: angry\n",
      "Accuracy: 1309/1422\n",
      "\n",
      "Validation loss: 0.6754370352628266\n",
      "F1 Score (Weighted): 0.8873915386288741\n"
     ]
    }
   ],
   "source": [
    "# Training loop for each epoch\n",
    "cnt=0\n",
    "for epoch in tqdm(range(1, epochs+1)):\n",
    "    # Clear out accumulated gradients\n",
    "    torch.cuda.empty_cache()\n",
    "    \n",
    "    model.train()  # Setting the model to training mode\n",
    "    \n",
    "    loss_train_total = 0  # Initializing total training loss\n",
    "\n",
    "    # Progress bar for training epoch\n",
    "    progress_bar = tqdm(dataloader_train, desc='Epoch {:1d}'.format(epoch), leave=False, disable=False)\n",
    "    for batch in progress_bar:\n",
    "\n",
    "        model.zero_grad()  # Resetting gradients\n",
    "        \n",
    "        batch = tuple(b.to(device) for b in batch)  # Moving batch tensors to the device\n",
    "        \n",
    "        inputs = {'input_ids':      batch[0],      # Input token IDs\n",
    "                  'attention_mask': batch[1],      # Attention masks\n",
    "                  'labels':         batch[2],      # Labels\n",
    "                 }       \n",
    "\n",
    "        outputs = model(**inputs)  # Forward pass\n",
    "        \n",
    "        loss = outputs[0]  # Extracting loss value from the output\n",
    "        loss_train_total += loss.item()  # Accumulating training loss\n",
    "        loss.backward()  # Backpropagation\n",
    "\n",
    "        torch.nn.utils.clip_grad_norm_(model.parameters(), 1.0)  # Clipping gradients to prevent explosion\n",
    "        \n",
    "        optimizer.step()  # Optimizer step\n",
    "        scheduler.step()  # Scheduler step\n",
    "        \n",
    "        # Updating progress bar with current training loss\n",
    "        progress_bar.set_postfix({'training_loss': '{:.3f}'.format(loss.item()/len(batch))})\n",
    "         \n",
    "    name_version='fintune-v1'\n",
    "    # Saving model after each epoch\n",
    "    torch.save(model.state_dict(), f'../model/{name_version}_epoch_{epoch}.model')  # Saving model after each epoch\n",
    "    \n",
    "    tqdm.write(f'\\nEpoch {epoch}')  # Printing current epoch\n",
    "    \n",
    "    loss_train_avg = loss_train_total/len(dataloader_train)  # Calculating average training loss\n",
    "    tqdm.write(f'Training loss: {loss_train_avg}')  # Printing training loss\n",
    "    \n",
    "    val_loss, predictions, true_vals = evaluate(dataloader_validation)  # Evaluating on validation set\n",
    "    val_f1 = f1_score_func(predictions, true_vals)  # Calculating F1 score\n",
    "    accuracy_per_class(predictions, true_vals)  # Calculating accuracy per class\n",
    "    tqdm.write(f'Validation loss: {val_loss}')  # Printing validation loss\n",
    "    tqdm.write(f'F1 Score (Weighted): {val_f1}')  # Printing F1 score\n",
    "    write_json({'epoch': epoch, 'training_loss': loss_train_avg, 'validation_loss': val_loss, 'f1_score': val_f1}, f'../model/{name_version}_epoch_{epoch}.json')  # Saving metrics"
   ]
  },
  {
   "cell_type": "code",
   "execution_count": 32,
   "metadata": {},
   "outputs": [
    {
     "data": {
      "text/plain": [
       "0.9225908372827805"
      ]
     },
     "execution_count": 32,
     "metadata": {},
     "output_type": "execute_result"
    }
   ],
   "source": [
    "584/633"
   ]
  }
 ],
 "metadata": {
  "kernelspec": {
   "display_name": "venv",
   "language": "python",
   "name": "python3"
  },
  "language_info": {
   "codemirror_mode": {
    "name": "ipython",
    "version": 3
   },
   "file_extension": ".py",
   "mimetype": "text/x-python",
   "name": "python",
   "nbconvert_exporter": "python",
   "pygments_lexer": "ipython3",
   "version": "3.9.18"
  },
  "orig_nbformat": 4
 },
 "nbformat": 4,
 "nbformat_minor": 2
}
