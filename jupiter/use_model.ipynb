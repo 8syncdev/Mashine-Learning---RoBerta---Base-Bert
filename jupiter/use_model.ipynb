{
 "cells": [
  {
   "cell_type": "code",
   "execution_count": 2,
   "metadata": {},
   "outputs": [
    {
     "name": "stdout",
     "output_type": "stream",
     "text": [
      "cuda\n",
      "True\n"
     ]
    }
   ],
   "source": [
    "from transformers import BertTokenizer\n",
    "from transformers import BertForSequenceClassification\n",
    "import torch\n",
    "device = torch.device('cuda' if torch.cuda.is_available() else 'cpu')\n",
    "print(device)\n",
    "print(torch.cuda.is_available())"
   ]
  },
  {
   "cell_type": "code",
   "execution_count": 5,
   "metadata": {},
   "outputs": [],
   "source": [
    "\n",
    "\n",
    "# Đường dẫn đến tệp .pt đã lưu\n",
    "model_path = './model/pretrained_bert_model_1re.pt'\n",
    "\n",
    "# Khởi tạo mô hình BERT cho phân loại chuỗi và tải trạng thái từ tệp đã lưu\n",
    "load_model = torch.load(model_path)\n",
    "\n",
    "load_model.to(device)\n",
    "\n",
    "tokenizer = BertTokenizer.from_pretrained('bert-base-uncased')\n",
    "\n",
    "label_dict = {'sad': 2,\n",
    "              'worry': 3,\n",
    "              'so sad': 1,\n",
    "              'happy': 4,\n",
    "              'so happy': 5}\n",
    "def predict_emotion(user_input):\n",
    "    # Tokenize và chuẩn bị đầu vào từ người dùng\n",
    "    inputs = tokenizer.encode_plus(\n",
    "        user_input,\n",
    "        add_special_tokens=True,\n",
    "        max_length=64,\n",
    "        padding='max_length',\n",
    "        return_attention_mask=True,\n",
    "        return_tensors='pt'\n",
    "    )\n",
    "\n",
    "    # Di chuyển đầu vào đến thiết bị phù hợp nếu sử dụng GPU\n",
    "    inputs = {key: val.to(device) for key, val in inputs.items()}\n",
    "\n",
    "    # Sử dụng mô hình để dự đoán\n",
    "    load_model.eval()\n",
    "    with torch.no_grad():\n",
    "        outputs = load_model(**inputs)\n",
    "\n",
    "    # Lấy xác suất của lớp dự đoán\n",
    "    class_names = ['Neutral', *list(label_dict.keys())]\n",
    "    predicted_probabilities = outputs.logits.softmax(dim=1)\n",
    "    predicted_class = torch.argmax(predicted_probabilities).item()\n",
    "    print(predicted_class)\n",
    "    predicted_class_name = class_names[predicted_class]\n",
    "    print(\"Predicted Class:\", predicted_class_name)\n",
    "\n",
    "    # Trả về xác suất dự đoán\n",
    "    return predicted_probabilities"
   ]
  },
  {
   "cell_type": "code",
   "execution_count": 7,
   "metadata": {},
   "outputs": [
    {
     "name": "stdout",
     "output_type": "stream",
     "text": [
      "1\n",
      "Predicted Class: sad\n",
      "Predicted Probabilities: tensor([[0.0158, 0.8276, 0.1207, 0.0125, 0.0111, 0.0124]])\n"
     ]
    }
   ],
   "source": [
    "# Gọi hàm dự đoán với đầu vào từ người dùng\n",
    "user_input = \"service is so awful\"\n",
    "predictions = predict_emotion(user_input)\n",
    "\n",
    "# In xác suất dự đoán\n",
    "print(\"Predicted Probabilities:\", predictions)"
   ]
  }
 ],
 "metadata": {
  "kernelspec": {
   "display_name": "venv",
   "language": "python",
   "name": "python3"
  },
  "language_info": {
   "codemirror_mode": {
    "name": "ipython",
    "version": 3
   },
   "file_extension": ".py",
   "mimetype": "text/x-python",
   "name": "python",
   "nbconvert_exporter": "python",
   "pygments_lexer": "ipython3",
   "version": "3.9.18"
  },
  "orig_nbformat": 4
 },
 "nbformat": 4,
 "nbformat_minor": 2
}
